{
 "cells": [
  {
   "cell_type": "code",
   "execution_count": 5,
   "metadata": {},
   "outputs": [
    {
     "name": "stdout",
     "output_type": "stream",
     "text": [
      "s\n",
      "p\n",
      "a\n",
      "m\n",
      "!\n"
     ]
    }
   ],
   "source": [
    "th=\"spam!\"\n",
    "for c in th:\n",
    "    print(c)"
   ]
  },
  {
   "cell_type": "code",
   "execution_count": 214,
   "metadata": {},
   "outputs": [
    {
     "name": "stdout",
     "output_type": "stream",
     "text": [
      "答案1234\n"
     ]
    }
   ],
   "source": [
    "ans=input(\"答案\")"
   ]
  },
  {
   "cell_type": "code",
   "execution_count": 6,
   "metadata": {},
   "outputs": [
    {
     "name": "stdout",
     "output_type": "stream",
     "text": [
      "1\n",
      "2\n",
      "5\n",
      "4\n",
      "7\n"
     ]
    }
   ],
   "source": [
    "a=[1,2,5,4,7]\n",
    "for n in a:\n",
    "    print(n)"
   ]
  },
  {
   "cell_type": "code",
   "execution_count": 30,
   "metadata": {},
   "outputs": [
    {
     "name": "stdout",
     "output_type": "stream",
     "text": [
      "m\n",
      "a\n",
      "r\n",
      "b\n",
      "l\n",
      "e\n"
     ]
    }
   ],
   "source": [
    "w=\"marble\"\n",
    "for a in w:\n",
    " print(a,end=\"\\n\")"
   ]
  },
  {
   "cell_type": "code",
   "execution_count": 29,
   "metadata": {},
   "outputs": [
    {
     "name": "stdout",
     "output_type": "stream",
     "text": [
      "pizza 180\n",
      "pasta 120\n",
      "salad 55\n",
      "soup 45\n"
     ]
    }
   ],
   "source": [
    "d={\"pizza\":180,\"pasta\":120,\"salad\":55,\"soup\":45}\n",
    "\n",
    "for a in d.items():\n",
    "    print(a[0],a[1])"
   ]
  },
  {
   "cell_type": "code",
   "execution_count": 31,
   "metadata": {},
   "outputs": [
    {
     "name": "stdout",
     "output_type": "stream",
     "text": [
      "pizza : 180\n",
      "pasta : 120\n",
      "salad : 55\n",
      "soup : 45\n"
     ]
    }
   ],
   "source": [
    "for f in d:\n",
    "    print(f,\":\",d[f])"
   ]
  },
  {
   "cell_type": "code",
   "execution_count": 46,
   "metadata": {},
   "outputs": [
    {
     "name": "stdout",
     "output_type": "stream",
     "text": [
      "5050\n"
     ]
    }
   ],
   "source": [
    "r=0\n",
    "for a in range(1,101,1):\n",
    "    r=r+a    \n",
    "print (r)    "
   ]
  },
  {
   "cell_type": "code",
   "execution_count": 49,
   "metadata": {},
   "outputs": [
    {
     "name": "stdout",
     "output_type": "stream",
     "text": [
      "3628800\n"
     ]
    }
   ],
   "source": [
    "r=1\n",
    "for a in range(1,11,1):\n",
    "    r=r*a\n",
    "print(r)"
   ]
  },
  {
   "cell_type": "code",
   "execution_count": 62,
   "metadata": {},
   "outputs": [
    {
     "name": "stdout",
     "output_type": "stream",
     "text": [
      "1\n",
      "1\n",
      "2\n",
      "3\n",
      "5\n",
      "8\n",
      "13\n",
      "21\n",
      "34\n",
      "55\n",
      "89\n",
      "144\n",
      "233\n",
      "377\n",
      "610\n"
     ]
    }
   ],
   "source": [
    "#印出費式數列\n",
    "a=1\n",
    "b=1\n",
    "c=2\n",
    "print(a)\n",
    "print(b)\n",
    "for k in range(1,14):\n",
    "   c=a+b\n",
    "   a=b\n",
    "   b=c\n",
    "   print(c)"
   ]
  },
  {
   "cell_type": "code",
   "execution_count": 77,
   "metadata": {},
   "outputs": [
    {
     "name": "stdout",
     "output_type": "stream",
     "text": [
      "1 * 1 = 1    1 * 2 = 2    1 * 3 = 3    1 * 4 = 4    1 * 5 = 5    1 * 6 = 6    1 * 7 = 7    1 * 8 = 8    1 * 9 = 9    \n",
      "\n",
      "2 * 1 = 2    2 * 2 = 4    2 * 3 = 6    2 * 4 = 8    2 * 5 = 10    2 * 6 = 12    2 * 7 = 14    2 * 8 = 16    2 * 9 = 18    \n",
      "\n",
      "3 * 1 = 3    3 * 2 = 6    3 * 3 = 9    3 * 4 = 12    3 * 5 = 15    3 * 6 = 18    3 * 7 = 21    3 * 8 = 24    3 * 9 = 27    \n",
      "\n",
      "4 * 1 = 4    4 * 2 = 8    4 * 3 = 12    4 * 4 = 16    4 * 5 = 20    4 * 6 = 24    4 * 7 = 28    4 * 8 = 32    4 * 9 = 36    \n",
      "\n",
      "5 * 1 = 5    5 * 2 = 10    5 * 3 = 15    5 * 4 = 20    5 * 5 = 25    5 * 6 = 30    5 * 7 = 35    5 * 8 = 40    5 * 9 = 45    \n",
      "\n",
      "6 * 1 = 6    6 * 2 = 12    6 * 3 = 18    6 * 4 = 24    6 * 5 = 30    6 * 6 = 36    6 * 7 = 42    6 * 8 = 48    6 * 9 = 54    \n",
      "\n",
      "7 * 1 = 7    7 * 2 = 14    7 * 3 = 21    7 * 4 = 28    7 * 5 = 35    7 * 6 = 42    7 * 7 = 49    7 * 8 = 56    7 * 9 = 63    \n",
      "\n",
      "8 * 1 = 8    8 * 2 = 16    8 * 3 = 24    8 * 4 = 32    8 * 5 = 40    8 * 6 = 48    8 * 7 = 56    8 * 8 = 64    8 * 9 = 72    \n",
      "\n",
      "9 * 1 = 9    9 * 2 = 18    9 * 3 = 27    9 * 4 = 36    9 * 5 = 45    9 * 6 = 54    9 * 7 = 63    9 * 8 = 72    9 * 9 = 81    \n",
      "\n"
     ]
    }
   ],
   "source": [
    "#99乘法表\n",
    "i=0\n",
    "j=1\n",
    "for b in range(1,10):\n",
    "    i=i+1\n",
    "    j=1\n",
    "    for a in range(1,10):\n",
    "        sum=i*j\n",
    "        print(i,\"*\",j,\"=\",sum,end=\"    \")\n",
    "        j=j+1\n",
    "    print(\"\\n\")   \n"
   ]
  },
  {
   "cell_type": "code",
   "execution_count": 98,
   "metadata": {},
   "outputs": [
    {
     "name": "stdout",
     "output_type": "stream",
     "text": [
      "1*1=1    1*2=2    1*3=3    1*4=4    1*5=5    1*6=6    1*7=7    1*8=8    1*9=9    \n",
      "2*1=2    2*2=4    2*3=6    2*4=8    2*5=10   2*6=12   2*7=14   2*8=16   2*9=18   \n",
      "3*1=3    3*2=6    3*3=9    3*4=12   3*5=15   3*6=18   3*7=21   3*8=24   3*9=27   \n",
      "4*1=4    4*2=8    4*3=12   4*4=16   4*5=20   4*6=24   4*7=28   4*8=32   4*9=36   \n",
      "5*1=5    5*2=10   5*3=15   5*4=20   5*5=25   5*6=30   5*7=35   5*8=40   5*9=45   \n",
      "6*1=6    6*2=12   6*3=18   6*4=24   6*5=30   6*6=36   6*7=42   6*8=48   6*9=54   \n",
      "7*1=7    7*2=14   7*3=21   7*4=28   7*5=35   7*6=42   7*7=49   7*8=56   7*9=63   \n",
      "8*1=8    8*2=16   8*3=24   8*4=32   8*5=40   8*6=48   8*7=56   8*8=64   8*9=72   \n",
      "9*1=9    9*2=18   9*3=27   9*4=36   9*5=45   9*6=54   9*7=63   9*8=72   9*9=81   \n"
     ]
    }
   ],
   "source": [
    "#99乘法表\n",
    "i=0\n",
    "j=1\n",
    "for b in range(1,10):\n",
    "    i=i+1\n",
    "    j=1\n",
    "    for a in range(1,10):\n",
    "        sum=i*j\n",
    "        print(\"%d*%d\"%(i,j)+\"=\"+\"%-2d\"%(sum),end=\"   \")\n",
    "        j=j+1\n",
    "    print()   \n"
   ]
  },
  {
   "cell_type": "code",
   "execution_count": 97,
   "metadata": {},
   "outputs": [
    {
     "name": "stdout",
     "output_type": "stream",
     "text": [
      "hi\n",
      "hi\n",
      "hi\n",
      "hi\n",
      "hi\n"
     ]
    }
   ],
   "source": [
    "c=0\n",
    "while c<5:\n",
    "    print(\"hi\")\n",
    "    c+=1"
   ]
  },
  {
   "cell_type": "code",
   "execution_count": 100,
   "metadata": {},
   "outputs": [
    {
     "name": "stdout",
     "output_type": "stream",
     "text": [
      "1*1=1    1*2=2    1*3=3    1*4=4    1*5=5    1*6=6    1*7=7    1*8=8    1*9=9    \n",
      "2*1=2    2*2=4    2*3=6    2*4=8    2*5=10   2*6=12   2*7=14   2*8=16   2*9=18   \n",
      "3*1=3    3*2=6    3*3=9    3*4=12   3*5=15   3*6=18   3*7=21   3*8=24   3*9=27   \n",
      "4*1=4    4*2=8    4*3=12   4*4=16   4*5=20   4*6=24   4*7=28   4*8=32   4*9=36   \n",
      "5*1=5    5*2=10   5*3=15   5*4=20   5*5=25   5*6=30   5*7=35   5*8=40   5*9=45   \n",
      "6*1=6    6*2=12   6*3=18   6*4=24   6*5=30   6*6=36   6*7=42   6*8=48   6*9=54   \n",
      "7*1=7    7*2=14   7*3=21   7*4=28   7*5=35   7*6=42   7*7=49   7*8=56   7*9=63   \n",
      "8*1=8    8*2=16   8*3=24   8*4=32   8*5=40   8*6=48   8*7=56   8*8=64   8*9=72   \n",
      "9*1=9    9*2=18   9*3=27   9*4=36   9*5=45   9*6=54   9*7=63   9*8=72   9*9=81   \n"
     ]
    }
   ],
   "source": [
    "#99乘法表\n",
    "for i in range(1,10):\n",
    "    for j in range(1,10):\n",
    "        print(\"%d*%d\"%(i,j)+\"=\"+\"%-2d\"%(i*j),end=\"   \")\n",
    "        j=j+1\n",
    "    print()   "
   ]
  },
  {
   "cell_type": "code",
   "execution_count": 112,
   "metadata": {},
   "outputs": [
    {
     "name": "stdout",
     "output_type": "stream",
     "text": [
      "1 2 3 5 6 7 8 9 "
     ]
    }
   ],
   "source": [
    "c=1\n",
    "while True:\n",
    "    if c==4:\n",
    "        c+=1\n",
    "        continue\n",
    "    print(c,end=\" \")\n",
    "    c+=1\n",
    "    if c>9:\n",
    "        break"
   ]
  },
  {
   "cell_type": "code",
   "execution_count": 113,
   "metadata": {},
   "outputs": [
    {
     "name": "stdout",
     "output_type": "stream",
     "text": [
      "1 2 3 5 6 7 8 9 "
     ]
    }
   ],
   "source": [
    "for i in range(1,10):\n",
    "    if i==4:\n",
    "        continue\n",
    "        i+=1\n",
    "    print(i,end=\" \")"
   ]
  },
  {
   "cell_type": "code",
   "execution_count": 145,
   "metadata": {},
   "outputs": [
    {
     "name": "stdout",
     "output_type": "stream",
     "text": [
      "2\n",
      "4\n",
      "3\n",
      "win\n"
     ]
    }
   ],
   "source": [
    "import random\n",
    "for i in range(1,4):\n",
    "    r=random.randint(1,6)\n",
    "    print(r)\n",
    "    if r==5:\n",
    "        print(\"失敗\")\n",
    "        break\n",
    "else:\n",
    "    print(\"win\")"
   ]
  },
  {
   "cell_type": "code",
   "execution_count": 142,
   "metadata": {},
   "outputs": [
    {
     "name": "stdout",
     "output_type": "stream",
     "text": [
      "5\n",
      "失敗\n"
     ]
    }
   ],
   "source": [
    "k=1\n",
    "while k<4:\n",
    "    r=random.randint(1,6)\n",
    "    print(r)\n",
    "    if r==5:\n",
    "        print(\"失敗\")\n",
    "        break\n",
    "    k+=1\n",
    "else:\n",
    "    print(\"win\")"
   ]
  },
  {
   "cell_type": "code",
   "execution_count": 187,
   "metadata": {},
   "outputs": [
    {
     "name": "stdout",
     "output_type": "stream",
     "text": [
      "答案1234\n",
      "輸入1234\n",
      "4 A 0 B\n"
     ]
    }
   ],
   "source": [
    "A=0\n",
    "B=0\n",
    "ans=input(\"答案\")\n",
    "a=input(\"輸入\")\n",
    "a=str(a)\n",
    "\n",
    "#算B\n",
    "if a[0]==ans[1] or a[0]==ans[2] or a[0]==ans[3]:\n",
    "    B+=1\n",
    "if a[1]==ans[0] or a[1]==ans[2] or a[1]==ans[3]:\n",
    "    B+=1\n",
    "if a[2]==ans[0] or a[2]==ans[1] or a[2]==ans[3]:\n",
    "    B+=1\n",
    "if a[3]==ans[0] or a[3]==ans[1] or a[3]==ans[2]:\n",
    "    B+=1\n",
    "#算A  \n",
    "for i in range(0,4):\n",
    "    if a[i]==ans[i]:\n",
    "        A+=1\n",
    "print(A,\"A\",B,\"B\")\n",
    "    "
   ]
  },
  {
   "cell_type": "code",
   "execution_count": 216,
   "metadata": {
    "scrolled": false
   },
   "outputs": [
    {
     "name": "stdout",
     "output_type": "stream",
     "text": [
      "輸入1234\n",
      "4 A 0 B\n",
      "恭喜\n"
     ]
    }
   ],
   "source": [
    "\n",
    "while True:\n",
    "\n",
    "    A=0\n",
    "    B=0\n",
    "    a=input(\"輸入\")\n",
    "    for i in range(0,4):\n",
    "        for k in range(0,4):\n",
    "\n",
    "            if a[i]==ans[k]:\n",
    "                   if i==k:\n",
    "                        A+=1\n",
    "                   else:\n",
    "                        B+=1 \n",
    "    print(A,\"A\",B,\"B\")\n",
    "    if A==4:\n",
    "     print(\"恭喜\")\n",
    "     break\n"
   ]
  },
  {
   "cell_type": "code",
   "execution_count": 212,
   "metadata": {},
   "outputs": [
    {
     "name": "stdout",
     "output_type": "stream",
     "text": [
      "答案5678\n"
     ]
    }
   ],
   "source": [
    "ans=input(\"答案\")"
   ]
  },
  {
   "cell_type": "code",
   "execution_count": 227,
   "metadata": {},
   "outputs": [
    {
     "name": "stdout",
     "output_type": "stream",
     "text": [
      "[0, 5, 1, 4, 8, 9, 2, 3, 6, 7]\n",
      "輸入0514\n",
      "恭喜\n"
     ]
    }
   ],
   "source": [
    "import random\n",
    "items=[1,2,3,4,5,6,7,8,9,0]\n",
    "random.shuffle(items)\n",
    "answer=''\n",
    "acount=0\n",
    "bcount=0\n",
    "print (items)\n",
    "for i in range(4):\n",
    "    answer+=str(items[i])\n",
    "while True:\n",
    "    number=input(\"輸入\")\n",
    "    if not number.isdigit():\n",
    "        pass\n",
    "    else:\n",
    "        if number==answer:\n",
    "            print(\"恭喜\")\n",
    "            break\n",
    "        for i in range(4):\n",
    "            for j in range(4):\n",
    "                if i==j and number[i]==answer[j]:\n",
    "                    acount+=1\n",
    "                elif number[i]==answer[j]:\n",
    "                    bcount+=1\n",
    "        print(acount,\"A\",bcount,\"B\")\n",
    "        acount=0\n",
    "        bcount=0\n",
    "    "
   ]
  },
  {
   "cell_type": "code",
   "execution_count": 233,
   "metadata": {},
   "outputs": [
    {
     "name": "stdout",
     "output_type": "stream",
     "text": [
      "輸入1234\n",
      "輸入1234\n",
      "4 A 0 B\n",
      "恭喜\n"
     ]
    }
   ],
   "source": [
    "ans=input(\"輸入\")\n",
    "while True:\n",
    "\n",
    "    A=0\n",
    "    B=0\n",
    "    a=input(\"輸入\")\n",
    "    for i in range(0,4):\n",
    "        for k in range(0,4):\n",
    "            if a[i]==ans[k]:\n",
    "                   if i==k:\n",
    "                        A+=1\n",
    "                   else:\n",
    "                        B+=1 \n",
    "    print(A,\"A\",B,\"B\")\n",
    "    if A==4:\n",
    "     print(\"恭喜\")\n",
    "     break\n"
   ]
  },
  {
   "cell_type": "code",
   "execution_count": 240,
   "metadata": {},
   "outputs": [
    {
     "name": "stdout",
     "output_type": "stream",
     "text": [
      "輸入12\n",
      "答案介於 12 100 之間\n",
      "輸入55\n",
      "答案介於 12 55 之間\n",
      "輸入38\n",
      "答案介於 12 38 之間\n",
      "輸入22\n",
      "答案介於 12 22 之間\n",
      "輸入18\n",
      "答案介於 12 18 之間\n",
      "輸入15\n",
      "答案介於 12 15 之間\n",
      "輸入14\n",
      "答案介於 12 14 之間\n",
      "輸入13\n",
      "恭喜答對\n"
     ]
    },
    {
     "ename": "KeyboardInterrupt",
     "evalue": "Interrupted by user",
     "output_type": "error",
     "traceback": [
      "\u001b[1;31m---------------------------------------------------------------------------\u001b[0m",
      "\u001b[1;31mKeyboardInterrupt\u001b[0m                         Traceback (most recent call last)",
      "\u001b[1;32m<ipython-input-240-f7f686fbfe8b>\u001b[0m in \u001b[0;36m<module>\u001b[1;34m\u001b[0m\n\u001b[0;32m      4\u001b[0m     \u001b[0ml\u001b[0m\u001b[1;33m=\u001b[0m\u001b[1;36m1\u001b[0m\u001b[1;33m\u001b[0m\u001b[1;33m\u001b[0m\u001b[0m\n\u001b[0;32m      5\u001b[0m     \u001b[1;32mwhile\u001b[0m \u001b[1;32mTrue\u001b[0m\u001b[1;33m:\u001b[0m\u001b[1;33m\u001b[0m\u001b[1;33m\u001b[0m\u001b[0m\n\u001b[1;32m----> 6\u001b[1;33m         \u001b[0mb\u001b[0m\u001b[1;33m=\u001b[0m\u001b[0minput\u001b[0m\u001b[1;33m(\u001b[0m\u001b[1;34m\"輸入\"\u001b[0m\u001b[1;33m)\u001b[0m\u001b[1;33m\u001b[0m\u001b[1;33m\u001b[0m\u001b[0m\n\u001b[0m\u001b[0;32m      7\u001b[0m         \u001b[0mb\u001b[0m\u001b[1;33m=\u001b[0m\u001b[0mint\u001b[0m\u001b[1;33m(\u001b[0m\u001b[0mb\u001b[0m\u001b[1;33m)\u001b[0m\u001b[1;33m\u001b[0m\u001b[1;33m\u001b[0m\u001b[0m\n\u001b[0;32m      8\u001b[0m         \u001b[1;32mif\u001b[0m \u001b[0mb\u001b[0m\u001b[1;33m<\u001b[0m\u001b[0ma\u001b[0m\u001b[1;33m:\u001b[0m\u001b[1;33m\u001b[0m\u001b[1;33m\u001b[0m\u001b[0m\n",
      "\u001b[1;32m~\\anaconda3\\lib\\site-packages\\ipykernel\\kernelbase.py\u001b[0m in \u001b[0;36mraw_input\u001b[1;34m(self, prompt)\u001b[0m\n\u001b[0;32m    858\u001b[0m                 \u001b[1;34m\"raw_input was called, but this frontend does not support input requests.\"\u001b[0m\u001b[1;33m\u001b[0m\u001b[1;33m\u001b[0m\u001b[0m\n\u001b[0;32m    859\u001b[0m             )\n\u001b[1;32m--> 860\u001b[1;33m         return self._input_request(str(prompt),\n\u001b[0m\u001b[0;32m    861\u001b[0m             \u001b[0mself\u001b[0m\u001b[1;33m.\u001b[0m\u001b[0m_parent_ident\u001b[0m\u001b[1;33m,\u001b[0m\u001b[1;33m\u001b[0m\u001b[1;33m\u001b[0m\u001b[0m\n\u001b[0;32m    862\u001b[0m             \u001b[0mself\u001b[0m\u001b[1;33m.\u001b[0m\u001b[0m_parent_header\u001b[0m\u001b[1;33m,\u001b[0m\u001b[1;33m\u001b[0m\u001b[1;33m\u001b[0m\u001b[0m\n",
      "\u001b[1;32m~\\anaconda3\\lib\\site-packages\\ipykernel\\kernelbase.py\u001b[0m in \u001b[0;36m_input_request\u001b[1;34m(self, prompt, ident, parent, password)\u001b[0m\n\u001b[0;32m    902\u001b[0m             \u001b[1;32mexcept\u001b[0m \u001b[0mKeyboardInterrupt\u001b[0m\u001b[1;33m:\u001b[0m\u001b[1;33m\u001b[0m\u001b[1;33m\u001b[0m\u001b[0m\n\u001b[0;32m    903\u001b[0m                 \u001b[1;31m# re-raise KeyboardInterrupt, to truncate traceback\u001b[0m\u001b[1;33m\u001b[0m\u001b[1;33m\u001b[0m\u001b[1;33m\u001b[0m\u001b[0m\n\u001b[1;32m--> 904\u001b[1;33m                 \u001b[1;32mraise\u001b[0m \u001b[0mKeyboardInterrupt\u001b[0m\u001b[1;33m(\u001b[0m\u001b[1;34m\"Interrupted by user\"\u001b[0m\u001b[1;33m)\u001b[0m \u001b[1;32mfrom\u001b[0m \u001b[1;32mNone\u001b[0m\u001b[1;33m\u001b[0m\u001b[1;33m\u001b[0m\u001b[0m\n\u001b[0m\u001b[0;32m    905\u001b[0m             \u001b[1;32mexcept\u001b[0m \u001b[0mException\u001b[0m \u001b[1;32mas\u001b[0m \u001b[0me\u001b[0m\u001b[1;33m:\u001b[0m\u001b[1;33m\u001b[0m\u001b[1;33m\u001b[0m\u001b[0m\n\u001b[0;32m    906\u001b[0m                 \u001b[0mself\u001b[0m\u001b[1;33m.\u001b[0m\u001b[0mlog\u001b[0m\u001b[1;33m.\u001b[0m\u001b[0mwarning\u001b[0m\u001b[1;33m(\u001b[0m\u001b[1;34m\"Invalid Message:\"\u001b[0m\u001b[1;33m,\u001b[0m \u001b[0mexc_info\u001b[0m\u001b[1;33m=\u001b[0m\u001b[1;32mTrue\u001b[0m\u001b[1;33m)\u001b[0m\u001b[1;33m\u001b[0m\u001b[1;33m\u001b[0m\u001b[0m\n",
      "\u001b[1;31mKeyboardInterrupt\u001b[0m: Interrupted by user"
     ]
    }
   ],
   "source": [
    "while True:\n",
    "    a=random.randint(1,100)\n",
    "    h=100\n",
    "    l=1\n",
    "    while True:\n",
    "        b=input(\"輸入\")\n",
    "        b=int(b)\n",
    "        if b<a:\n",
    "            print(\"答案介於\",b,h,\"之間\")\n",
    "            l=b\n",
    "        elif b>a:\n",
    "            print(\"答案介於\",l,b,\"之間\")\n",
    "            h=b\n",
    "        else:\n",
    "            print(\"恭喜答對\")\n",
    "            break"
   ]
  },
  {
   "cell_type": "code",
   "execution_count": 242,
   "metadata": {},
   "outputs": [
    {
     "name": "stdout",
     "output_type": "stream",
     "text": [
      "輸入12\n",
      "答案介於 12 100 之間\n",
      "輸入55\n",
      "答案介於 12 55 之間\n",
      "輸入66\n",
      "答案介於 12 66 之間\n",
      "輸入88\n",
      "答案介於 12 88 之間\n",
      "輸入55\n",
      "答案介於 12 55 之間\n",
      "輸入35\n",
      "答案介於 35 55 之間\n",
      "輸入45\n",
      "答案介於 45 55 之間\n",
      "輸入48\n",
      "答案介於 48 55 之間\n",
      "輸入53\n",
      "答案介於 48 53 之間\n",
      "輸入49\n",
      "恭喜答對\n"
     ]
    }
   ],
   "source": [
    "a=random.randint(1,100)\n",
    "h=100\n",
    "l=1\n",
    "while True:\n",
    "    b=input(\"輸入\")\n",
    "    b=int(b)\n",
    "    if b<a:\n",
    "        print(\"答案介於\",b,h,\"之間\")\n",
    "        l=b\n",
    "    elif b>a:\n",
    "        print(\"答案介於\",l,b,\"之間\")\n",
    "        h=b\n",
    "    else:\n",
    "        print(\"恭喜答對\")\n",
    "        break"
   ]
  },
  {
   "cell_type": "code",
   "execution_count": null,
   "metadata": {},
   "outputs": [],
   "source": []
  }
 ],
 "metadata": {
  "kernelspec": {
   "display_name": "Python 3",
   "language": "python",
   "name": "python3"
  },
  "language_info": {
   "codemirror_mode": {
    "name": "ipython",
    "version": 3
   },
   "file_extension": ".py",
   "mimetype": "text/x-python",
   "name": "python",
   "nbconvert_exporter": "python",
   "pygments_lexer": "ipython3",
   "version": "3.8.5"
  }
 },
 "nbformat": 4,
 "nbformat_minor": 4
}
